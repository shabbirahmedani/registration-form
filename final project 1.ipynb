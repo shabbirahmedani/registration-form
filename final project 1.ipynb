{
 "cells": [
  {
   "cell_type": "code",
   "execution_count": 2,
   "id": "fe47a40c",
   "metadata": {},
   "outputs": [],
   "source": [
    "from tkinter import *\n"
   ]
  },
  {
   "cell_type": "code",
   "execution_count": 3,
   "id": "4c2bf01e",
   "metadata": {},
   "outputs": [],
   "source": [
    "from random import randint"
   ]
  },
  {
   "cell_type": "code",
   "execution_count": 6,
   "id": "d292d76c",
   "metadata": {},
   "outputs": [],
   "source": [
    "import tkinter as tk"
   ]
  },
  {
   "cell_type": "code",
   "execution_count": 179,
   "id": "1ef66361",
   "metadata": {},
   "outputs": [
    {
     "name": "stdout",
     "output_type": "stream",
     "text": [
      "Full Name is shabbir\n",
      "EMAIL is asfgde2kdkdl\n",
      "country name is pakistan\n"
     ]
    }
   ],
   "source": [
    "root=tk.Tk()\n",
    "root.title(\"Registration form\")\n",
    "root.geometry(\"400x400\")\n",
    "p=Label(root,text=\"REGISTRATION FORM\",fg=\"black\",width=\"20\",height=\"05\",font=\"72\")\n",
    "p.grid(row=1,column=2)\n",
    "\n",
    "p=Label(root,text=\"Full Name\",fg=\"brown\")\n",
    "p.grid(row=3,column=1)\n",
    "\n",
    "name=Tk.StringVar()\n",
    "c=Entry(root, fg=\"brown\",textvariable=name)\n",
    "c.grid(row=3,column=2)\n",
    "\n",
    "def print_name():\n",
    "    name=c.get()\n",
    "    print(\"Full Name is\", name)\n",
    "print_name    \n",
    "b =Button(root, text=\"name\", bg=\"pink\", fg =\"black\", command=print_name) \n",
    "b.grid(row=3,column=3)\n",
    "i=IntVar()\n",
    "\n",
    "\n",
    "\n",
    "d=Label(root,text=\"Email\",fg=\"black\")\n",
    "d.grid(row=5,column=1)\n",
    "\n",
    "email=Tk.StringVar()\n",
    "r=Entry(root, fg=\"brown\",textvariable=email)\n",
    "r.grid(row=5,column=2)\n",
    "\n",
    "def print_email():\n",
    "    email=r.get()\n",
    "    print(\"EMAIL is\", email)\n",
    "\n",
    "r4 =Button(root, text=\"email\", bg=\"black\", fg =\"white\", command=print_email) \n",
    "r4.grid(row=5,column=3)\n",
    "i=IntVar()\n",
    "r1=Radiobutton (root, text=\"Male\", variable=i, value = 1)\n",
    "r1.grid(row=6, column=2)\n",
    "r2=Radiobutton(root, text=\"Female\", padx=10, variable=i, value = 2)\n",
    "r2.grid(row=6,column=3)\n",
    "e=Label(root,text=\"Gender\",fg=\"brown\")\n",
    "e.grid(row=6,column=1)\n",
    "\n",
    "s=Label(root,text=\"Country\",fg=\"brown\")\n",
    "s.grid(row=7,column=1)\n",
    "\n",
    "country =Tk.StringVar()\n",
    "l=Entry(root, fg=\"brown\",textvariable=country)\n",
    "l.grid(row=7,column=2)\n",
    "\n",
    "def print_country():\n",
    "    country=l.get()\n",
    "    print(\"country name is\", country)    \n",
    "v =Button(root, text=\"country\", bg=\"pink\", fg =\"black\", command=print_country) \n",
    "v.grid(row=7,column=3)\n",
    "\n",
    "\n",
    "v1=IntVar()\n",
    "F1=Checkbutton (root, text=\"phython\", variable=v1)\n",
    "F1.grid(row=8, column=2) \n",
    "v2=IntVar()\n",
    "f2=Checkbutton (root, text=\"Java\", variable=v2)\n",
    "f2.grid(row=8, column = 3)\n",
    "e=Label(root,text=\"Programming\",fg=\"brown\")\n",
    "e.grid(row=8,column=1)\n",
    "\n",
    "submit =Tk.StringVar()\n",
    "\n",
    "def print_submit():\n",
    "    country=r.get()    \n",
    "v =Button(root, text=\"submit\", bg=\"pink\", fg =\"black\", command=print_submit) \n",
    "v.grid(row=9,column=1)\n",
    "    \n",
    "root.mainloop()\n"
   ]
  }
 ],
 "metadata": {
  "kernelspec": {
   "display_name": "Python 3 (ipykernel)",
   "language": "python",
   "name": "python3"
  },
  "language_info": {
   "codemirror_mode": {
    "name": "ipython",
    "version": 3
   },
   "file_extension": ".py",
   "mimetype": "text/x-python",
   "name": "python",
   "nbconvert_exporter": "python",
   "pygments_lexer": "ipython3",
   "version": "3.8.9"
  }
 },
 "nbformat": 4,
 "nbformat_minor": 5
}
